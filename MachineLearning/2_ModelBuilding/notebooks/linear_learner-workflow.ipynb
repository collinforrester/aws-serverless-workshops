{
 "cells": [
  {
   "cell_type": "markdown",
   "metadata": {},
   "source": [
    "# Introduction\n",
    "\n",
    "Welcome to your Amazon SageMaker notebook instance!  \n",
    "\n",
    "This is a fully managed AWS environment that provides you a Jupyter Notebook to work with data.  To learn more about Amazon SageMake notebook instances, check out our [documentation](https://docs.aws.amazon.com/sagemaker/latest/dg/nbi.html).\n",
    "\n",
    "## Summary\n",
    "\n",
    "We're looking to build our machine learning workflow that will retrain our model when new data sets are added.  Instead of executing python code inside of a Notebook, we'd like to execute these steps in a state machine.  The steps below are still performed:\n",
    "\n",
    "1. Setup serverless querying of data in S3 via [Amazon Athena](https://aws.amazon.com/athena/).\n",
    "2. Prepare dataframes using [pandas](https://pandas.pydata.org/) and [numpy](https://numpy.org).\n",
    "3. Build and train a machline learning model via the [Amazon SageMaker Python SDK](https://docs.aws.amazon.com/sagemaker/latest/dg/frameworks.html).\n",
    "\n",
    "But instead across these states:\n",
    "\n",
    "1. Prep data in Athena (Lambda function)\n",
    "2. Split data into training and testing sets (Lambda function)\n",
    "3. Model training (Step function data science SDK)\n",
    "4. Save the model (Step function data science SDK)\n",
    "5. Check model accuracy (Lambda function)\n",
    "6. Test: Accuracy above our threshold?\n",
    "7. Yes? Publish\n",
    "8. No? Do nothing"
   ]
  },
  {
   "cell_type": "code",
   "execution_count": 175,
   "metadata": {},
   "outputs": [],
   "source": [
    "# ACTION: provide the data bucket NAME you are using for this workshop\n",
    "data_bucket = 'wildrydes-ml-mod1-databucket-686858492265' "
   ]
  },
  {
   "cell_type": "code",
   "execution_count": 176,
   "metadata": {},
   "outputs": [
    {
     "name": "stdout",
     "output_type": "stream",
     "text": [
      "Requirement already up-to-date: stepfunctions in /home/ec2-user/anaconda3/envs/python3/lib/python3.6/site-packages (1.1.1)\n",
      "Requirement already satisfied, skipping upgrade: pyyaml in /home/ec2-user/anaconda3/envs/python3/lib/python3.6/site-packages (from stepfunctions) (5.3.1)\n",
      "Requirement already satisfied, skipping upgrade: sagemaker<2.0.0,>=1.71.0 in /home/ec2-user/anaconda3/envs/python3/lib/python3.6/site-packages (from stepfunctions) (1.72.0)\n",
      "Requirement already satisfied, skipping upgrade: boto3>=1.9.213 in /home/ec2-user/anaconda3/envs/python3/lib/python3.6/site-packages (from stepfunctions) (1.14.16)\n",
      "Requirement already satisfied, skipping upgrade: numpy>=1.9.0 in /home/ec2-user/anaconda3/envs/python3/lib/python3.6/site-packages (from sagemaker<2.0.0,>=1.71.0->stepfunctions) (1.18.1)\n",
      "Requirement already satisfied, skipping upgrade: scipy>=0.19.0 in /home/ec2-user/anaconda3/envs/python3/lib/python3.6/site-packages (from sagemaker<2.0.0,>=1.71.0->stepfunctions) (1.4.1)\n",
      "Requirement already satisfied, skipping upgrade: smdebug-rulesconfig==0.1.4 in /home/ec2-user/anaconda3/envs/python3/lib/python3.6/site-packages (from sagemaker<2.0.0,>=1.71.0->stepfunctions) (0.1.4)\n",
      "Requirement already satisfied, skipping upgrade: packaging>=20.0 in /home/ec2-user/anaconda3/envs/python3/lib/python3.6/site-packages (from sagemaker<2.0.0,>=1.71.0->stepfunctions) (20.3)\n",
      "Requirement already satisfied, skipping upgrade: protobuf3-to-dict>=0.1.5 in /home/ec2-user/anaconda3/envs/python3/lib/python3.6/site-packages (from sagemaker<2.0.0,>=1.71.0->stepfunctions) (0.1.5)\n",
      "Requirement already satisfied, skipping upgrade: importlib-metadata>=1.4.0 in /home/ec2-user/anaconda3/envs/python3/lib/python3.6/site-packages (from sagemaker<2.0.0,>=1.71.0->stepfunctions) (1.5.0)\n",
      "Requirement already satisfied, skipping upgrade: protobuf>=3.1 in /home/ec2-user/anaconda3/envs/python3/lib/python3.6/site-packages (from sagemaker<2.0.0,>=1.71.0->stepfunctions) (3.12.2)\n",
      "Requirement already satisfied, skipping upgrade: s3transfer<0.4.0,>=0.3.0 in /home/ec2-user/anaconda3/envs/python3/lib/python3.6/site-packages (from boto3>=1.9.213->stepfunctions) (0.3.3)\n",
      "Requirement already satisfied, skipping upgrade: botocore<1.18.0,>=1.17.16 in /home/ec2-user/anaconda3/envs/python3/lib/python3.6/site-packages (from boto3>=1.9.213->stepfunctions) (1.17.16)\n",
      "Requirement already satisfied, skipping upgrade: jmespath<1.0.0,>=0.7.1 in /home/ec2-user/anaconda3/envs/python3/lib/python3.6/site-packages (from boto3>=1.9.213->stepfunctions) (0.9.4)\n",
      "Requirement already satisfied, skipping upgrade: pyparsing>=2.0.2 in /home/ec2-user/anaconda3/envs/python3/lib/python3.6/site-packages (from packaging>=20.0->sagemaker<2.0.0,>=1.71.0->stepfunctions) (2.4.6)\n",
      "Requirement already satisfied, skipping upgrade: six in /home/ec2-user/anaconda3/envs/python3/lib/python3.6/site-packages (from packaging>=20.0->sagemaker<2.0.0,>=1.71.0->stepfunctions) (1.14.0)\n",
      "Requirement already satisfied, skipping upgrade: zipp>=0.5 in /home/ec2-user/anaconda3/envs/python3/lib/python3.6/site-packages (from importlib-metadata>=1.4.0->sagemaker<2.0.0,>=1.71.0->stepfunctions) (2.2.0)\n",
      "Requirement already satisfied, skipping upgrade: setuptools in /home/ec2-user/anaconda3/envs/python3/lib/python3.6/site-packages (from protobuf>=3.1->sagemaker<2.0.0,>=1.71.0->stepfunctions) (46.1.3.post20200330)\n",
      "Requirement already satisfied, skipping upgrade: urllib3<1.26,>=1.20; python_version != \"3.4\" in /home/ec2-user/anaconda3/envs/python3/lib/python3.6/site-packages (from botocore<1.18.0,>=1.17.16->boto3>=1.9.213->stepfunctions) (1.25.8)\n",
      "Requirement already satisfied, skipping upgrade: docutils<0.16,>=0.10 in /home/ec2-user/anaconda3/envs/python3/lib/python3.6/site-packages (from botocore<1.18.0,>=1.17.16->boto3>=1.9.213->stepfunctions) (0.15.2)\n",
      "Requirement already satisfied, skipping upgrade: python-dateutil<3.0.0,>=2.1 in /home/ec2-user/anaconda3/envs/python3/lib/python3.6/site-packages (from botocore<1.18.0,>=1.17.16->boto3>=1.9.213->stepfunctions) (2.8.1)\n",
      "\u001b[33mWARNING: You are using pip version 20.0.2; however, version 20.2.2 is available.\n",
      "You should consider upgrading via the '/home/ec2-user/anaconda3/envs/python3/bin/python -m pip install --upgrade pip' command.\u001b[0m\n"
     ]
    }
   ],
   "source": [
    "import sys\n",
    "!{sys.executable} -m pip install --upgrade stepfunctions"
   ]
  },
  {
   "cell_type": "markdown",
   "metadata": {},
   "source": [
    "### Import libraries and dependencies"
   ]
  },
  {
   "cell_type": "code",
   "execution_count": 177,
   "metadata": {},
   "outputs": [],
   "source": [
    "import uuid\n",
    "import logging\n",
    "import stepfunctions\n",
    "import boto3\n",
    "import sagemaker\n",
    "import time\n",
    "\n",
    "from sagemaker.amazon.amazon_estimator import get_image_uri\n",
    "from sagemaker import s3_input\n",
    "from sagemaker.s3 import S3Uploader\n",
    "from stepfunctions import steps\n",
    "from stepfunctions.steps import TrainingStep, ModelStep\n",
    "from stepfunctions.inputs import ExecutionInput\n",
    "from stepfunctions.workflow import Workflow\n",
    "\n",
    "session = sagemaker.Session()\n",
    "stepfunctions.set_stream_logger(level=logging.INFO)\n",
    "\n",
    "region = boto3.Session().region_name\n",
    "bucket = session.default_bucket()\n",
    "id = uuid.uuid4().hex\n",
    "function_name = 'query-training-status-{}'.format(id)"
   ]
  },
  {
   "cell_type": "markdown",
   "metadata": {},
   "source": [
    "### Build the permissions that the Step Function Workflow will use"
   ]
  },
  {
   "cell_type": "code",
   "execution_count": 178,
   "metadata": {},
   "outputs": [],
   "source": [
    "# TODO - Build this execution role in here and take the output to this variable\n",
    "# paste the StepFunctionsWorkflowExecutionRole ARN from above\n",
    "workflow_execution_role = 'arn:aws:iam::686858492265:role/StepFunctionDataScienceRole'\n",
    "\n",
    "# SageMaker Execution Role\n",
    "# You can use sagemaker.get_execution_role() if running inside sagemaker's notebook instance\n",
    "sagemaker_execution_role = sagemaker.get_execution_role() #Replace with ARN if not in an AWS SageMaker notebook"
   ]
  },
  {
   "cell_type": "code",
   "execution_count": 179,
   "metadata": {},
   "outputs": [
    {
     "name": "stdout",
     "output_type": "stream",
     "text": [
      "sagemaker-us-east-1-686858492265\n"
     ]
    }
   ],
   "source": [
    "session = sagemaker.Session()\n",
    "bucket = session.default_bucket()\n",
    "print(bucket)"
   ]
  },
  {
   "cell_type": "markdown",
   "metadata": {},
   "source": [
    "### Setup the locations where the training data will be placed"
   ]
  },
  {
   "cell_type": "code",
   "execution_count": 180,
   "metadata": {},
   "outputs": [],
   "source": [
    "train_prefix = 'train'\n",
    "test_prefix = 'test'\n",
    "key = 'recordio-pb-data'\n",
    "\n",
    "train_data = 's3://{}/{}/'.format(data_bucket, train_prefix)\n",
    "test_data = 's3://{}/{}/'.format(data_bucket, test_prefix)"
   ]
  },
  {
   "cell_type": "markdown",
   "metadata": {},
   "source": [
    "### Define the API for your Step Function Workflow\n",
    "This is the API that controls the inputs of your State Machine.\n",
    "\n",
    "* TrainingJobName = The name of your SageMaker Training Job\n",
    "* LambdaDataPrep = The name of the Lambda function responsible for data prep\n",
    "* LambdaDataSplit = The name of the Lambda function responsible for splitting the data\n",
    "* ModelName = The name of the model we'll be training\n",
    "* EndpointName = The name of the Endpoint (unused)\n",
    "* LambdaQueryStatus = The name of the Lambda function responsible for querying the model accuracy\n",
    "* data_bucket = The name of the S3 bucket where all of the data for the workflow will be persisted"
   ]
  },
  {
   "cell_type": "code",
   "execution_count": 181,
   "metadata": {},
   "outputs": [],
   "source": [
    "# SageMaker expects unique names for each job, model and endpoint. \n",
    "# If these names are not unique the execution will fail.\n",
    "execution_input = ExecutionInput(schema={\n",
    "    'TrainingJobName': str,\n",
    "    'LambdaDataPrep': str,\n",
    "    'LambdaDataSplit': str,\n",
    "    'ModelName': str,\n",
    "    'EndpointName': str,\n",
    "    'LambdaQueryStatus': str,\n",
    "    'data_bucket': str\n",
    "})"
   ]
  },
  {
   "cell_type": "markdown",
   "metadata": {},
   "source": [
    "### Create the Estimator for training our model"
   ]
  },
  {
   "cell_type": "code",
   "execution_count": 182,
   "metadata": {},
   "outputs": [],
   "source": [
    "import matplotlib.pyplot as plt\n",
    "\n",
    "import sagemaker\n",
    "from sagemaker import get_execution_role\n",
    "from sagemaker.predictor import csv_serializer, json_deserializer\n",
    "from sagemaker.amazon.amazon_estimator import get_image_uri\n",
    "\n",
    "\n",
    "def estimator_from_hyperparams(s3_train_data, hyperparams, output_path, s3_test_data=None):\n",
    "    \"\"\"\n",
    "    Create an Estimator from the given hyperparams, fit to training data, \n",
    "    and return a deployed predictor\n",
    "    \n",
    "    \"\"\"\n",
    "    # set up the estimator\n",
    "    linear = sagemaker.estimator.Estimator(get_image_uri(boto3.Session().region_name, \"linear-learner\"),\n",
    "        get_execution_role(),\n",
    "        train_instance_count=1,\n",
    "        train_instance_type='ml.m5.2xlarge',\n",
    "        output_path=output_path,\n",
    "        sagemaker_session=sagemaker.Session())\n",
    "    linear.set_hyperparameters(**hyperparams)\n",
    "    return linear"
   ]
  },
  {
   "cell_type": "code",
   "execution_count": 183,
   "metadata": {},
   "outputs": [],
   "source": [
    "import math\n",
    "# TODO: Update hard coded feature_dim and mini_batch_size params to be dynamic again (refer to old code)\n",
    "hyperparams = {\n",
    "    'feature_dim': 6,\n",
    "    'mini_batch_size': 17995,\n",
    "    'predictor_type': 'binary_classifier' \n",
    "}\n",
    "\n",
    "output_path = 's3://' + data_bucket\n",
    "linear_estimator = estimator_from_hyperparams(train_data, hyperparams, output_path, \n",
    "                                                   s3_test_data=test_data)"
   ]
  },
  {
   "cell_type": "markdown",
   "metadata": {},
   "source": [
    "### Define the Step Function Training Step"
   ]
  },
  {
   "cell_type": "code",
   "execution_count": 184,
   "metadata": {},
   "outputs": [],
   "source": [
    "s3_train_data = 's3://{}/{}/{}'.format(data_bucket, train_prefix, key)\n",
    "s3_test_data = 's3://{}/{}/{}'.format(data_bucket, test_prefix, key)\n",
    "\n",
    "training_step = steps.TrainingStep(\n",
    "    'Model Training', \n",
    "    estimator=linear_estimator,\n",
    "    data={\n",
    "        'train': s3_train_data,\n",
    "        'test': s3_test_data\n",
    "    },\n",
    "    job_name=execution_input['TrainingJobName'],\n",
    "    wait_for_completion=True\n",
    ")"
   ]
  },
  {
   "cell_type": "markdown",
   "metadata": {},
   "source": [
    "### Define the Step Function Model Save Step"
   ]
  },
  {
   "cell_type": "code",
   "execution_count": 185,
   "metadata": {},
   "outputs": [],
   "source": [
    "model_step = steps.ModelStep(\n",
    "    'Save Model',\n",
    "    model=training_step.get_expected_model(),\n",
    "    model_name=execution_input['ModelName'],\n",
    "    result_path='$.ModelStepResults'\n",
    ")"
   ]
  },
  {
   "cell_type": "markdown",
   "metadata": {},
   "source": [
    "### Define the Lambda Step Function Steps"
   ]
  },
  {
   "cell_type": "code",
   "execution_count": 186,
   "metadata": {},
   "outputs": [],
   "source": [
    "# Query lambda\n",
    "lambda_step_query = steps.compute.LambdaStep(\n",
    "    'Query Training Results',\n",
    "    parameters={  \n",
    "        \"FunctionName\": execution_input['LambdaQueryStatus'],\n",
    "        'Payload':{\n",
    "            \"TrainingJobName.$\": '$.TrainingJobName'\n",
    "        }\n",
    "    }\n",
    ")\n",
    "\n",
    "# data prep lambda\n",
    "lambda_step_prep = steps.compute.LambdaStep(\n",
    "    'Prep Data in Athena',\n",
    "    parameters={  \n",
    "        \"FunctionName\": execution_input['LambdaDataPrep'],\n",
    "        'Payload':{\n",
    "            \"data_bucket\": execution_input['data_bucket']\n",
    "        }\n",
    "    }\n",
    ")\n",
    "\n",
    "# data split lambda\n",
    "lambda_step_split = steps.compute.LambdaStep(\n",
    "    'Split Data',\n",
    "    parameters={  \n",
    "        \"FunctionName\": execution_input['LambdaDataSplit'],\n",
    "        'Payload': lambda_step_prep.output()\n",
    "    }\n",
    ")"
   ]
  },
  {
   "cell_type": "code",
   "execution_count": 187,
   "metadata": {},
   "outputs": [],
   "source": [
    "check_accuracy_step = steps.states.Choice(\n",
    "    'Accuracy > 90%'\n",
    ")"
   ]
  },
  {
   "cell_type": "code",
   "execution_count": 188,
   "metadata": {},
   "outputs": [],
   "source": [
    "# TODO: need some code here to move the trained model to the \"production\" or \"deploy\" area for lambda to pick up"
   ]
  },
  {
   "cell_type": "code",
   "execution_count": 189,
   "metadata": {},
   "outputs": [],
   "source": [
    "fail_step = steps.states.Fail(\n",
    "    'Model Accuracy Too Low',\n",
    "    comment='Validation accuracy lower than threshold'\n",
    ")\n",
    "\n",
    "end_step = steps.states.Pass('End')"
   ]
  },
  {
   "cell_type": "code",
   "execution_count": 190,
   "metadata": {},
   "outputs": [],
   "source": [
    "threshold_rule = steps.choice_rule.ChoiceRule.NumericLessThan(variable=lambda_step_query.output()['Payload']['trainingMetrics'][0]['Value'], value=.1)\n",
    "\n",
    "check_accuracy_step.add_choice(rule=threshold_rule, next_step=end_step)\n",
    "check_accuracy_step.default_choice(next_step=fail_step)"
   ]
  },
  {
   "cell_type": "code",
   "execution_count": 191,
   "metadata": {},
   "outputs": [],
   "source": [
    "workflow_definition = steps.Chain([\n",
    "    lambda_step_prep,\n",
    "    lambda_step_split,\n",
    "    training_step,\n",
    "    model_step,\n",
    "    lambda_step_query,\n",
    "    check_accuracy_step\n",
    "])"
   ]
  },
  {
   "cell_type": "markdown",
   "metadata": {},
   "source": [
    "# Run the workflow"
   ]
  },
  {
   "cell_type": "code",
   "execution_count": 192,
   "metadata": {},
   "outputs": [],
   "source": [
    "workflow_name = 'MLOpsRetrainingWorkflow_{}'.format(id)\n",
    "workflow = Workflow(\n",
    "    name=workflow_name,\n",
    "    definition=workflow_definition,\n",
    "    role=workflow_execution_role,\n",
    "    execution_input=execution_input\n",
    ")"
   ]
  },
  {
   "cell_type": "code",
   "execution_count": 193,
   "metadata": {},
   "outputs": [
    {
     "data": {
      "text/html": [
       "\n",
       "<link rel=\"stylesheet\" type=\"text/css\" href=\"https://do0of8uwbahzz.cloudfront.net/graph.css\">\n",
       "<div id=\"graph-307\" class=\"workflowgraph\">\n",
       "    \n",
       "    <svg></svg>\n",
       "    \n",
       "</div>\n",
       "\n",
       "<script type=\"text/javascript\">\n",
       "\n",
       "require.config({\n",
       "    paths: {\n",
       "        sfn: \"https://do0of8uwbahzz.cloudfront.net/sfn\",\n",
       "    }\n",
       "});\n",
       "\n",
       "require(['sfn'], function(sfn) {\n",
       "    var element = document.getElementById('graph-307')\n",
       "\n",
       "    var options = {\n",
       "        width: parseFloat(getComputedStyle(element, null).width.replace(\"px\", \"\")),\n",
       "        height: 600,\n",
       "        layout: 'LR',\n",
       "        resizeHeight: true\n",
       "    };\n",
       "\n",
       "    var definition = {\"StartAt\": \"Prep Data in Athena\", \"States\": {\"Prep Data in Athena\": {\"Parameters\": {\"FunctionName.$\": \"$$.Execution.Input['LambdaDataPrep']\", \"Payload\": {\"data_bucket.$\": \"$$.Execution.Input['data_bucket']\"}}, \"Resource\": \"arn:aws:states:::lambda:invoke\", \"Type\": \"Task\", \"Next\": \"Split Data\"}, \"Split Data\": {\"Parameters\": {\"FunctionName.$\": \"$$.Execution.Input['LambdaDataSplit']\", \"Payload.$\": \"$\"}, \"Resource\": \"arn:aws:states:::lambda:invoke\", \"Type\": \"Task\", \"Next\": \"Model Training\"}, \"Model Training\": {\"Resource\": \"arn:aws:states:::sagemaker:createTrainingJob.sync\", \"Parameters\": {\"AlgorithmSpecification\": {\"TrainingImage\": \"382416733822.dkr.ecr.us-east-1.amazonaws.com/linear-learner:1\", \"TrainingInputMode\": \"File\"}, \"OutputDataConfig\": {\"S3OutputPath\": \"s3://wildrydes-ml-mod1-databucket-686858492265\"}, \"StoppingCondition\": {\"MaxRuntimeInSeconds\": 86400}, \"ResourceConfig\": {\"InstanceCount\": 1, \"InstanceType\": \"ml.m5.2xlarge\", \"VolumeSizeInGB\": 30}, \"RoleArn\": \"arn:aws:iam::686858492265:role/service-role/wildrydes-ml-mod2-SageMakerExecutionRole-14V9WTQ2HROAZ\", \"InputDataConfig\": [{\"DataSource\": {\"S3DataSource\": {\"S3DataType\": \"S3Prefix\", \"S3Uri\": \"s3://wildrydes-ml-mod1-databucket-686858492265/train/recordio-pb-data\", \"S3DataDistributionType\": \"FullyReplicated\"}}, \"ChannelName\": \"train\"}, {\"DataSource\": {\"S3DataSource\": {\"S3DataType\": \"S3Prefix\", \"S3Uri\": \"s3://wildrydes-ml-mod1-databucket-686858492265/test/recordio-pb-data\", \"S3DataDistributionType\": \"FullyReplicated\"}}, \"ChannelName\": \"test\"}], \"HyperParameters\": {\"feature_dim\": \"6\", \"mini_batch_size\": \"17995\", \"predictor_type\": \"binary_classifier\"}, \"TrainingJobName.$\": \"$$.Execution.Input['TrainingJobName']\"}, \"Type\": \"Task\", \"Next\": \"Save Model\"}, \"Save Model\": {\"ResultPath\": \"$.ModelStepResults\", \"Parameters\": {\"ExecutionRoleArn\": \"arn:aws:iam::686858492265:role/service-role/wildrydes-ml-mod2-SageMakerExecutionRole-14V9WTQ2HROAZ\", \"ModelName.$\": \"$$.Execution.Input['ModelName']\", \"PrimaryContainer\": {\"Environment\": {}, \"Image\": \"382416733822.dkr.ecr.us-east-1.amazonaws.com/linear-learner:1\", \"ModelDataUrl.$\": \"$['ModelArtifacts']['S3ModelArtifacts']\"}}, \"Resource\": \"arn:aws:states:::sagemaker:createModel\", \"Type\": \"Task\", \"Next\": \"Query Training Results\"}, \"Query Training Results\": {\"Parameters\": {\"FunctionName.$\": \"$$.Execution.Input['LambdaQueryStatus']\", \"Payload\": {\"TrainingJobName.$\": \"$.TrainingJobName\"}}, \"Resource\": \"arn:aws:states:::lambda:invoke\", \"Type\": \"Task\", \"Next\": \"Accuracy > 90%\"}, \"Accuracy > 90%\": {\"Type\": \"Choice\", \"Choices\": [{\"Variable\": \"$['Payload']['trainingMetrics'][0]['Value']\", \"NumericLessThan\": 0.1, \"Next\": \"End\"}], \"Default\": \"Model Accuracy Too Low\"}, \"Model Accuracy Too Low\": {\"Comment\": \"Validation accuracy lower than threshold\", \"Type\": \"Fail\"}, \"End\": {\"Type\": \"Pass\", \"End\": true}}};\n",
       "    var elementId = '#graph-307';\n",
       "\n",
       "    var graph = new sfn.StateMachineGraph(definition, elementId, options);\n",
       "    graph.render();\n",
       "});\n",
       "\n",
       "</script>\n"
      ],
      "text/plain": [
       "<IPython.core.display.HTML object>"
      ]
     },
     "execution_count": 193,
     "metadata": {},
     "output_type": "execute_result"
    }
   ],
   "source": [
    "workflow.render_graph()"
   ]
  },
  {
   "cell_type": "markdown",
   "metadata": {},
   "source": [
    "### Create the workflow in AWS Step Functions with `create`"
   ]
  },
  {
   "cell_type": "code",
   "execution_count": 194,
   "metadata": {},
   "outputs": [],
   "source": [
    "state_machines = Workflow.list_workflows()\n",
    "workflow_exist = False\n",
    "existing_workflow_obj = {}\n",
    "for machine in state_machines:\n",
    "    if machine[\"name\"] == workflow_name:\n",
    "        workflow_exist = True\n",
    "        existing_workflow_obj = machine"
   ]
  },
  {
   "cell_type": "code",
   "execution_count": 195,
   "metadata": {},
   "outputs": [
    {
     "name": "stdout",
     "output_type": "stream",
     "text": [
      "MLOpsRetrainingWorkflow_e2dbfa81fb594e4ebb2be75824edeeaf does not exist.  Creating it with the specified workflow definition.\n",
      "\u001b[32m[INFO] Workflow created successfully on AWS Step Functions.\u001b[0m\n"
     ]
    }
   ],
   "source": [
    "\n",
    "if workflow_exist:\n",
    "    workflow = Workflow.attach(existing_workflow_obj[\"stateMachineArn\"])\n",
    "    print(workflow_name + \" already exist.  Updating the workflow definition.\")\n",
    "    workflow.update(definition=workflow_definition,role=workflow_execution_role)\n",
    "    # small delay for step functions to pick up the new definitions before execution\n",
    "    time.sleep(2)\n",
    "else:\n",
    "    print(workflow_name + \" does not exist.  Creating it with the specified workflow definition.\")\n",
    "    workflow.create()\n",
    "    "
   ]
  },
  {
   "cell_type": "markdown",
   "metadata": {},
   "source": [
    "### Run the workflow with `execute`"
   ]
  },
  {
   "cell_type": "code",
   "execution_count": 196,
   "metadata": {
    "nbpresent": {
     "id": "a58fdf0d-32fb-4690-add3-433cc721773d"
    }
   },
   "outputs": [
    {
     "name": "stdout",
     "output_type": "stream",
     "text": [
      "\u001b[32m[INFO] Workflow execution started successfully on AWS Step Functions.\u001b[0m\n"
     ]
    }
   ],
   "source": [
    "\n",
    "\n",
    "execution = workflow.execute(\n",
    "    inputs={\n",
    "        'TrainingJobName': 'linear-learner-{}'.format(id), # Each Sagemaker Job requires a unique name,\n",
    "        'ModelName': 'UnicornWeatherImpact-{}'.format(id), # Each Model requires a unique name,\n",
    "        'EndpointName': 'UnicornStatus', # Each Endpoint requires a unique name\n",
    "        'LambdaQueryStatus': 'lambda-athena-data-prep-QueryTrainingStatusFunctio-X75RBWYEIKGX',\n",
    "        'LambdaDataPrep': 'lambda-athena-data-prep-AthenaDataSetupFunction-68PESHWDWY75',\n",
    "        'LambdaDataSplit': 'lambda-athena-data-prep-ShapeSplitFunction-ONEQ6KSS6GKS',\n",
    "        'data_bucket': data_bucket\n",
    "    }\n",
    ")\n",
    "\n"
   ]
  },
  {
   "cell_type": "code",
   "execution_count": 200,
   "metadata": {},
   "outputs": [
    {
     "data": {
      "text/html": [
       "\n",
       "<link rel=\"stylesheet\" type=\"text/css\" href=\"https://do0of8uwbahzz.cloudfront.net/graph.css\">\n",
       "<div id=\"graph-938\" class=\"workflowgraph\">\n",
       "    \n",
       "    <style>\n",
       "        .graph-legend ul {\n",
       "            list-style-type: none;\n",
       "            padding: 10px;\n",
       "            padding-left: 0;\n",
       "            margin: 0;\n",
       "            position: absolute;\n",
       "            top: 0;\n",
       "            background: transparent;\n",
       "        }\n",
       "\n",
       "        .graph-legend li {\n",
       "            margin-left: 10px;\n",
       "            display: inline-block;\n",
       "        }\n",
       "\n",
       "        .graph-legend li > div {\n",
       "            width: 10px;\n",
       "            height: 10px;\n",
       "            display: inline-block;\n",
       "        }\n",
       "\n",
       "        .graph-legend .success { background-color: #2BD62E }\n",
       "        .graph-legend .failed { background-color: #DE322F }\n",
       "        .graph-legend .cancelled { background-color: #DDDDDD }\n",
       "        .graph-legend .in-progress { background-color: #53C9ED }\n",
       "        .graph-legend .caught-error { background-color: #FFA500 }\n",
       "    </style>\n",
       "    <div class=\"graph-legend\">\n",
       "        <ul>\n",
       "            <li>\n",
       "                <div class=\"success\"></div>\n",
       "                <span>Success</span>\n",
       "            </li>\n",
       "            <li>\n",
       "                <div class=\"failed\"></div>\n",
       "                <span>Failed</span>\n",
       "            </li>\n",
       "            <li>\n",
       "                <div class=\"cancelled\"></div>\n",
       "                <span>Cancelled</span>\n",
       "            </li>\n",
       "            <li>\n",
       "                <div class=\"in-progress\"></div>\n",
       "                <span>In Progress</span>\n",
       "            </li>\n",
       "            <li>\n",
       "                <div class=\"caught-error\"></div>\n",
       "                <span>Caught Error</span>\n",
       "            </li>\n",
       "        </ul>\n",
       "    </div>\n",
       "\n",
       "    <svg></svg>\n",
       "    <a href=\"https://console.aws.amazon.com/states/home?region=us-east-1#/executions/details/arn:aws:states:us-east-1:686858492265:execution:MLOpsRetrainingWorkflow_e2dbfa81fb594e4ebb2be75824edeeaf:e534696c-45a7-4f5c-a00b-8f327dfc57e4\" target=\"_blank\"> Inspect in AWS Step Functions </a>\n",
       "</div>\n",
       "\n",
       "<script type=\"text/javascript\">\n",
       "\n",
       "require.config({\n",
       "    paths: {\n",
       "        sfn: \"https://do0of8uwbahzz.cloudfront.net/sfn\",\n",
       "    }\n",
       "});\n",
       "\n",
       "require(['sfn'], function(sfn) {\n",
       "    var element = document.getElementById('graph-938')\n",
       "\n",
       "    var options = {\n",
       "        width: parseFloat(getComputedStyle(element, null).width.replace(\"px\", \"\")),\n",
       "        height: 1000,\n",
       "        layout: 'LR',\n",
       "        resizeHeight: true\n",
       "    };\n",
       "\n",
       "    var definition = {\"StartAt\": \"Prep Data in Athena\", \"States\": {\"Prep Data in Athena\": {\"Parameters\": {\"FunctionName.$\": \"$$.Execution.Input['LambdaDataPrep']\", \"Payload\": {\"data_bucket.$\": \"$$.Execution.Input['data_bucket']\"}}, \"Resource\": \"arn:aws:states:::lambda:invoke\", \"Type\": \"Task\", \"Next\": \"Split Data\"}, \"Split Data\": {\"Parameters\": {\"FunctionName.$\": \"$$.Execution.Input['LambdaDataSplit']\", \"Payload.$\": \"$\"}, \"Resource\": \"arn:aws:states:::lambda:invoke\", \"Type\": \"Task\", \"Next\": \"Model Training\"}, \"Model Training\": {\"Resource\": \"arn:aws:states:::sagemaker:createTrainingJob.sync\", \"Parameters\": {\"AlgorithmSpecification\": {\"TrainingImage\": \"382416733822.dkr.ecr.us-east-1.amazonaws.com/linear-learner:1\", \"TrainingInputMode\": \"File\"}, \"OutputDataConfig\": {\"S3OutputPath\": \"s3://wildrydes-ml-mod1-databucket-686858492265\"}, \"StoppingCondition\": {\"MaxRuntimeInSeconds\": 86400}, \"ResourceConfig\": {\"InstanceCount\": 1, \"InstanceType\": \"ml.m5.2xlarge\", \"VolumeSizeInGB\": 30}, \"RoleArn\": \"arn:aws:iam::686858492265:role/service-role/wildrydes-ml-mod2-SageMakerExecutionRole-14V9WTQ2HROAZ\", \"InputDataConfig\": [{\"DataSource\": {\"S3DataSource\": {\"S3DataType\": \"S3Prefix\", \"S3Uri\": \"s3://wildrydes-ml-mod1-databucket-686858492265/train/recordio-pb-data\", \"S3DataDistributionType\": \"FullyReplicated\"}}, \"ChannelName\": \"train\"}, {\"DataSource\": {\"S3DataSource\": {\"S3DataType\": \"S3Prefix\", \"S3Uri\": \"s3://wildrydes-ml-mod1-databucket-686858492265/test/recordio-pb-data\", \"S3DataDistributionType\": \"FullyReplicated\"}}, \"ChannelName\": \"test\"}], \"HyperParameters\": {\"feature_dim\": \"6\", \"mini_batch_size\": \"17995\", \"predictor_type\": \"binary_classifier\"}, \"TrainingJobName.$\": \"$$.Execution.Input['TrainingJobName']\"}, \"Type\": \"Task\", \"Next\": \"Save Model\"}, \"Save Model\": {\"ResultPath\": \"$.ModelStepResults\", \"Parameters\": {\"ExecutionRoleArn\": \"arn:aws:iam::686858492265:role/service-role/wildrydes-ml-mod2-SageMakerExecutionRole-14V9WTQ2HROAZ\", \"ModelName.$\": \"$$.Execution.Input['ModelName']\", \"PrimaryContainer\": {\"Environment\": {}, \"Image\": \"382416733822.dkr.ecr.us-east-1.amazonaws.com/linear-learner:1\", \"ModelDataUrl.$\": \"$['ModelArtifacts']['S3ModelArtifacts']\"}}, \"Resource\": \"arn:aws:states:::sagemaker:createModel\", \"Type\": \"Task\", \"Next\": \"Query Training Results\"}, \"Query Training Results\": {\"Parameters\": {\"FunctionName.$\": \"$$.Execution.Input['LambdaQueryStatus']\", \"Payload\": {\"TrainingJobName.$\": \"$.TrainingJobName\"}}, \"Resource\": \"arn:aws:states:::lambda:invoke\", \"Type\": \"Task\", \"Next\": \"Accuracy > 90%\"}, \"Accuracy > 90%\": {\"Type\": \"Choice\", \"Choices\": [{\"Variable\": \"$['Payload']['trainingMetrics'][0]['Value']\", \"NumericLessThan\": 0.1, \"Next\": \"End\"}], \"Default\": \"Model Accuracy Too Low\"}, \"Model Accuracy Too Low\": {\"Comment\": \"Validation accuracy lower than threshold\", \"Type\": \"Fail\"}, \"End\": {\"Type\": \"Pass\", \"End\": true}}};\n",
       "    var elementId = '#graph-938';\n",
       "    var events = { 'events': [{\"timestamp\": 1597164459.01, \"type\": \"ExecutionStarted\", \"id\": 1, \"previousEventId\": 0, \"executionStartedEventDetails\": {\"input\": \"{\\n    \\\"TrainingJobName\\\": \\\"linear-learner-e2dbfa81fb594e4ebb2be75824edeeaf\\\",\\n    \\\"ModelName\\\": \\\"UnicornWeatherImpact-e2dbfa81fb594e4ebb2be75824edeeaf\\\",\\n    \\\"EndpointName\\\": \\\"UnicornStatus\\\",\\n    \\\"LambdaQueryStatus\\\": \\\"lambda-athena-data-prep-QueryTrainingStatusFunctio-X75RBWYEIKGX\\\",\\n    \\\"LambdaDataPrep\\\": \\\"lambda-athena-data-prep-AthenaDataSetupFunction-68PESHWDWY75\\\",\\n    \\\"LambdaDataSplit\\\": \\\"lambda-athena-data-prep-ShapeSplitFunction-ONEQ6KSS6GKS\\\",\\n    \\\"data_bucket\\\": \\\"wildrydes-ml-mod1-databucket-686858492265\\\"\\n}\", \"roleArn\": \"arn:aws:iam::686858492265:role/StepFunctionDataScienceRole\"}}, {\"timestamp\": 1597164459.047, \"type\": \"TaskStateEntered\", \"id\": 2, \"previousEventId\": 0, \"stateEnteredEventDetails\": {\"name\": \"Prep Data in Athena\", \"input\": \"{\\n    \\\"TrainingJobName\\\": \\\"linear-learner-e2dbfa81fb594e4ebb2be75824edeeaf\\\",\\n    \\\"ModelName\\\": \\\"UnicornWeatherImpact-e2dbfa81fb594e4ebb2be75824edeeaf\\\",\\n    \\\"EndpointName\\\": \\\"UnicornStatus\\\",\\n    \\\"LambdaQueryStatus\\\": \\\"lambda-athena-data-prep-QueryTrainingStatusFunctio-X75RBWYEIKGX\\\",\\n    \\\"LambdaDataPrep\\\": \\\"lambda-athena-data-prep-AthenaDataSetupFunction-68PESHWDWY75\\\",\\n    \\\"LambdaDataSplit\\\": \\\"lambda-athena-data-prep-ShapeSplitFunction-ONEQ6KSS6GKS\\\",\\n    \\\"data_bucket\\\": \\\"wildrydes-ml-mod1-databucket-686858492265\\\"\\n}\"}}, {\"timestamp\": 1597164459.047, \"type\": \"TaskScheduled\", \"id\": 3, \"previousEventId\": 2, \"taskScheduledEventDetails\": {\"resourceType\": \"lambda\", \"resource\": \"invoke\", \"region\": \"us-east-1\", \"parameters\": \"{\\\"Payload\\\":{\\\"data_bucket\\\":\\\"wildrydes-ml-mod1-databucket-686858492265\\\"},\\\"FunctionName\\\":\\\"lambda-athena-data-prep-AthenaDataSetupFunction-68PESHWDWY75\\\"}\"}}, {\"timestamp\": 1597164459.089, \"type\": \"TaskStarted\", \"id\": 4, \"previousEventId\": 3, \"taskStartedEventDetails\": {\"resourceType\": \"lambda\", \"resource\": \"invoke\"}}, {\"timestamp\": 1597164530.261, \"type\": \"TaskSucceeded\", \"id\": 5, \"previousEventId\": 4, \"taskSucceededEventDetails\": {\"resourceType\": \"lambda\", \"resource\": \"invoke\", \"output\": \"{\\\"ExecutedVersion\\\":\\\"$LATEST\\\",\\\"Payload\\\":\\\"{\\\\\\\"df_location\\\\\\\": \\\\\\\"s3://wildrydes-ml-mod1-databucket-686858492265/merged_dfs/08-11-2020-16:48:49_merged_df.csv\\\\\\\", \\\\\\\"data_bucket\\\\\\\": \\\\\\\"wildrydes-ml-mod1-databucket-686858492265\\\\\\\"}\\\",\\\"SdkHttpMetadata\\\":{\\\"AllHttpHeaders\\\":{\\\"X-Amz-Executed-Version\\\":[\\\"$LATEST\\\"],\\\"x-amzn-Remapped-Content-Length\\\":[\\\"0\\\"],\\\"Connection\\\":[\\\"keep-alive\\\"],\\\"x-amzn-RequestId\\\":[\\\"74a7edd3-3b3c-4b68-801f-6b4f8530fe96\\\"],\\\"Content-Length\\\":[\\\"180\\\"],\\\"Date\\\":[\\\"Tue, 11 Aug 2020 16:48:50 GMT\\\"],\\\"X-Amzn-Trace-Id\\\":[\\\"root=1-5f32cbab-48317ecac7b5e85a0d087b7d;sampled=0\\\"],\\\"Content-Type\\\":[\\\"application/json\\\"]},\\\"HttpHeaders\\\":{\\\"Connection\\\":\\\"keep-alive\\\",\\\"Content-Length\\\":\\\"180\\\",\\\"Content-Type\\\":\\\"application/json\\\",\\\"Date\\\":\\\"Tue, 11 Aug 2020 16:48:50 GMT\\\",\\\"X-Amz-Executed-Version\\\":\\\"$LATEST\\\",\\\"x-amzn-Remapped-Content-Length\\\":\\\"0\\\",\\\"x-amzn-RequestId\\\":\\\"74a7edd3-3b3c-4b68-801f-6b4f8530fe96\\\",\\\"X-Amzn-Trace-Id\\\":\\\"root=1-5f32cbab-48317ecac7b5e85a0d087b7d;sampled=0\\\"},\\\"HttpStatusCode\\\":200},\\\"SdkResponseMetadata\\\":{\\\"RequestId\\\":\\\"74a7edd3-3b3c-4b68-801f-6b4f8530fe96\\\"},\\\"StatusCode\\\":200}\"}}, {\"timestamp\": 1597164530.261, \"type\": \"TaskStateExited\", \"id\": 6, \"previousEventId\": 5, \"stateExitedEventDetails\": {\"name\": \"Prep Data in Athena\", \"output\": \"{\\\"ExecutedVersion\\\":\\\"$LATEST\\\",\\\"Payload\\\":\\\"{\\\\\\\"df_location\\\\\\\": \\\\\\\"s3://wildrydes-ml-mod1-databucket-686858492265/merged_dfs/08-11-2020-16:48:49_merged_df.csv\\\\\\\", \\\\\\\"data_bucket\\\\\\\": \\\\\\\"wildrydes-ml-mod1-databucket-686858492265\\\\\\\"}\\\",\\\"SdkHttpMetadata\\\":{\\\"AllHttpHeaders\\\":{\\\"X-Amz-Executed-Version\\\":[\\\"$LATEST\\\"],\\\"x-amzn-Remapped-Content-Length\\\":[\\\"0\\\"],\\\"Connection\\\":[\\\"keep-alive\\\"],\\\"x-amzn-RequestId\\\":[\\\"74a7edd3-3b3c-4b68-801f-6b4f8530fe96\\\"],\\\"Content-Length\\\":[\\\"180\\\"],\\\"Date\\\":[\\\"Tue, 11 Aug 2020 16:48:50 GMT\\\"],\\\"X-Amzn-Trace-Id\\\":[\\\"root=1-5f32cbab-48317ecac7b5e85a0d087b7d;sampled=0\\\"],\\\"Content-Type\\\":[\\\"application/json\\\"]},\\\"HttpHeaders\\\":{\\\"Connection\\\":\\\"keep-alive\\\",\\\"Content-Length\\\":\\\"180\\\",\\\"Content-Type\\\":\\\"application/json\\\",\\\"Date\\\":\\\"Tue, 11 Aug 2020 16:48:50 GMT\\\",\\\"X-Amz-Executed-Version\\\":\\\"$LATEST\\\",\\\"x-amzn-Remapped-Content-Length\\\":\\\"0\\\",\\\"x-amzn-RequestId\\\":\\\"74a7edd3-3b3c-4b68-801f-6b4f8530fe96\\\",\\\"X-Amzn-Trace-Id\\\":\\\"root=1-5f32cbab-48317ecac7b5e85a0d087b7d;sampled=0\\\"},\\\"HttpStatusCode\\\":200},\\\"SdkResponseMetadata\\\":{\\\"RequestId\\\":\\\"74a7edd3-3b3c-4b68-801f-6b4f8530fe96\\\"},\\\"StatusCode\\\":200}\"}}, {\"timestamp\": 1597164530.277, \"type\": \"TaskStateEntered\", \"id\": 7, \"previousEventId\": 6, \"stateEnteredEventDetails\": {\"name\": \"Split Data\", \"input\": \"{\\\"ExecutedVersion\\\":\\\"$LATEST\\\",\\\"Payload\\\":\\\"{\\\\\\\"df_location\\\\\\\": \\\\\\\"s3://wildrydes-ml-mod1-databucket-686858492265/merged_dfs/08-11-2020-16:48:49_merged_df.csv\\\\\\\", \\\\\\\"data_bucket\\\\\\\": \\\\\\\"wildrydes-ml-mod1-databucket-686858492265\\\\\\\"}\\\",\\\"SdkHttpMetadata\\\":{\\\"AllHttpHeaders\\\":{\\\"X-Amz-Executed-Version\\\":[\\\"$LATEST\\\"],\\\"x-amzn-Remapped-Content-Length\\\":[\\\"0\\\"],\\\"Connection\\\":[\\\"keep-alive\\\"],\\\"x-amzn-RequestId\\\":[\\\"74a7edd3-3b3c-4b68-801f-6b4f8530fe96\\\"],\\\"Content-Length\\\":[\\\"180\\\"],\\\"Date\\\":[\\\"Tue, 11 Aug 2020 16:48:50 GMT\\\"],\\\"X-Amzn-Trace-Id\\\":[\\\"root=1-5f32cbab-48317ecac7b5e85a0d087b7d;sampled=0\\\"],\\\"Content-Type\\\":[\\\"application/json\\\"]},\\\"HttpHeaders\\\":{\\\"Connection\\\":\\\"keep-alive\\\",\\\"Content-Length\\\":\\\"180\\\",\\\"Content-Type\\\":\\\"application/json\\\",\\\"Date\\\":\\\"Tue, 11 Aug 2020 16:48:50 GMT\\\",\\\"X-Amz-Executed-Version\\\":\\\"$LATEST\\\",\\\"x-amzn-Remapped-Content-Length\\\":\\\"0\\\",\\\"x-amzn-RequestId\\\":\\\"74a7edd3-3b3c-4b68-801f-6b4f8530fe96\\\",\\\"X-Amzn-Trace-Id\\\":\\\"root=1-5f32cbab-48317ecac7b5e85a0d087b7d;sampled=0\\\"},\\\"HttpStatusCode\\\":200},\\\"SdkResponseMetadata\\\":{\\\"RequestId\\\":\\\"74a7edd3-3b3c-4b68-801f-6b4f8530fe96\\\"},\\\"StatusCode\\\":200}\"}}, {\"timestamp\": 1597164530.277, \"type\": \"TaskScheduled\", \"id\": 8, \"previousEventId\": 7, \"taskScheduledEventDetails\": {\"resourceType\": \"lambda\", \"resource\": \"invoke\", \"region\": \"us-east-1\", \"parameters\": \"{\\\"FunctionName\\\":\\\"lambda-athena-data-prep-ShapeSplitFunction-ONEQ6KSS6GKS\\\",\\\"Payload\\\":{\\\"ExecutedVersion\\\":\\\"$LATEST\\\",\\\"Payload\\\":\\\"{\\\\\\\"df_location\\\\\\\": \\\\\\\"s3://wildrydes-ml-mod1-databucket-686858492265/merged_dfs/08-11-2020-16:48:49_merged_df.csv\\\\\\\", \\\\\\\"data_bucket\\\\\\\": \\\\\\\"wildrydes-ml-mod1-databucket-686858492265\\\\\\\"}\\\",\\\"SdkHttpMetadata\\\":{\\\"AllHttpHeaders\\\":{\\\"X-Amz-Executed-Version\\\":[\\\"$LATEST\\\"],\\\"x-amzn-Remapped-Content-Length\\\":[\\\"0\\\"],\\\"Connection\\\":[\\\"keep-alive\\\"],\\\"x-amzn-RequestId\\\":[\\\"74a7edd3-3b3c-4b68-801f-6b4f8530fe96\\\"],\\\"Content-Length\\\":[\\\"180\\\"],\\\"Date\\\":[\\\"Tue, 11 Aug 2020 16:48:50 GMT\\\"],\\\"X-Amzn-Trace-Id\\\":[\\\"root=1-5f32cbab-48317ecac7b5e85a0d087b7d;sampled=0\\\"],\\\"Content-Type\\\":[\\\"application/json\\\"]},\\\"HttpHeaders\\\":{\\\"Connection\\\":\\\"keep-alive\\\",\\\"Content-Length\\\":\\\"180\\\",\\\"Content-Type\\\":\\\"application/json\\\",\\\"Date\\\":\\\"Tue, 11 Aug 2020 16:48:50 GMT\\\",\\\"X-Amz-Executed-Version\\\":\\\"$LATEST\\\",\\\"x-amzn-Remapped-Content-Length\\\":\\\"0\\\",\\\"x-amzn-RequestId\\\":\\\"74a7edd3-3b3c-4b68-801f-6b4f8530fe96\\\",\\\"X-Amzn-Trace-Id\\\":\\\"root=1-5f32cbab-48317ecac7b5e85a0d087b7d;sampled=0\\\"},\\\"HttpStatusCode\\\":200},\\\"SdkResponseMetadata\\\":{\\\"RequestId\\\":\\\"74a7edd3-3b3c-4b68-801f-6b4f8530fe96\\\"},\\\"StatusCode\\\":200}}\"}}, {\"timestamp\": 1597164530.291, \"type\": \"TaskStarted\", \"id\": 9, \"previousEventId\": 8, \"taskStartedEventDetails\": {\"resourceType\": \"lambda\", \"resource\": \"invoke\"}}, {\"timestamp\": 1597164533.658, \"type\": \"TaskSucceeded\", \"id\": 10, \"previousEventId\": 9, \"taskSucceededEventDetails\": {\"resourceType\": \"lambda\", \"resource\": \"invoke\", \"output\": \"{\\\"ExecutedVersion\\\":\\\"$LATEST\\\",\\\"Payload\\\":\\\"{\\\\\\\"df_location\\\\\\\": \\\\\\\"s3://wildrydes-ml-mod1-databucket-686858492265/merged_dfs/08-11-2020-16:48:49_merged_df.csv\\\\\\\", \\\\\\\"data_bucket\\\\\\\": \\\\\\\"wildrydes-ml-mod1-databucket-686858492265\\\\\\\", \\\\\\\"training_location\\\\\\\": \\\\\\\"uploaded training data location: s3://wildrydes-ml-mod1-databucket-686858492265/train/recordio-pb-data\\\\\\\"}\\\",\\\"SdkHttpMetadata\\\":{\\\"AllHttpHeaders\\\":{\\\"X-Amz-Executed-Version\\\":[\\\"$LATEST\\\"],\\\"x-amzn-Remapped-Content-Length\\\":[\\\"0\\\"],\\\"Connection\\\":[\\\"keep-alive\\\"],\\\"x-amzn-RequestId\\\":[\\\"63df059c-0466-4a01-8346-1080d7262005\\\"],\\\"Content-Length\\\":[\\\"311\\\"],\\\"Date\\\":[\\\"Tue, 11 Aug 2020 16:48:53 GMT\\\"],\\\"X-Amzn-Trace-Id\\\":[\\\"root=1-5f32cbf2-9806fd07af3d0d7d73ed17bb;sampled=0\\\"],\\\"Content-Type\\\":[\\\"application/json\\\"]},\\\"HttpHeaders\\\":{\\\"Connection\\\":\\\"keep-alive\\\",\\\"Content-Length\\\":\\\"311\\\",\\\"Content-Type\\\":\\\"application/json\\\",\\\"Date\\\":\\\"Tue, 11 Aug 2020 16:48:53 GMT\\\",\\\"X-Amz-Executed-Version\\\":\\\"$LATEST\\\",\\\"x-amzn-Remapped-Content-Length\\\":\\\"0\\\",\\\"x-amzn-RequestId\\\":\\\"63df059c-0466-4a01-8346-1080d7262005\\\",\\\"X-Amzn-Trace-Id\\\":\\\"root=1-5f32cbf2-9806fd07af3d0d7d73ed17bb;sampled=0\\\"},\\\"HttpStatusCode\\\":200},\\\"SdkResponseMetadata\\\":{\\\"RequestId\\\":\\\"63df059c-0466-4a01-8346-1080d7262005\\\"},\\\"StatusCode\\\":200}\"}}, {\"timestamp\": 1597164533.658, \"type\": \"TaskStateExited\", \"id\": 11, \"previousEventId\": 10, \"stateExitedEventDetails\": {\"name\": \"Split Data\", \"output\": \"{\\\"ExecutedVersion\\\":\\\"$LATEST\\\",\\\"Payload\\\":\\\"{\\\\\\\"df_location\\\\\\\": \\\\\\\"s3://wildrydes-ml-mod1-databucket-686858492265/merged_dfs/08-11-2020-16:48:49_merged_df.csv\\\\\\\", \\\\\\\"data_bucket\\\\\\\": \\\\\\\"wildrydes-ml-mod1-databucket-686858492265\\\\\\\", \\\\\\\"training_location\\\\\\\": \\\\\\\"uploaded training data location: s3://wildrydes-ml-mod1-databucket-686858492265/train/recordio-pb-data\\\\\\\"}\\\",\\\"SdkHttpMetadata\\\":{\\\"AllHttpHeaders\\\":{\\\"X-Amz-Executed-Version\\\":[\\\"$LATEST\\\"],\\\"x-amzn-Remapped-Content-Length\\\":[\\\"0\\\"],\\\"Connection\\\":[\\\"keep-alive\\\"],\\\"x-amzn-RequestId\\\":[\\\"63df059c-0466-4a01-8346-1080d7262005\\\"],\\\"Content-Length\\\":[\\\"311\\\"],\\\"Date\\\":[\\\"Tue, 11 Aug 2020 16:48:53 GMT\\\"],\\\"X-Amzn-Trace-Id\\\":[\\\"root=1-5f32cbf2-9806fd07af3d0d7d73ed17bb;sampled=0\\\"],\\\"Content-Type\\\":[\\\"application/json\\\"]},\\\"HttpHeaders\\\":{\\\"Connection\\\":\\\"keep-alive\\\",\\\"Content-Length\\\":\\\"311\\\",\\\"Content-Type\\\":\\\"application/json\\\",\\\"Date\\\":\\\"Tue, 11 Aug 2020 16:48:53 GMT\\\",\\\"X-Amz-Executed-Version\\\":\\\"$LATEST\\\",\\\"x-amzn-Remapped-Content-Length\\\":\\\"0\\\",\\\"x-amzn-RequestId\\\":\\\"63df059c-0466-4a01-8346-1080d7262005\\\",\\\"X-Amzn-Trace-Id\\\":\\\"root=1-5f32cbf2-9806fd07af3d0d7d73ed17bb;sampled=0\\\"},\\\"HttpStatusCode\\\":200},\\\"SdkResponseMetadata\\\":{\\\"RequestId\\\":\\\"63df059c-0466-4a01-8346-1080d7262005\\\"},\\\"StatusCode\\\":200}\"}}, {\"timestamp\": 1597164533.665, \"type\": \"TaskStateEntered\", \"id\": 12, \"previousEventId\": 11, \"stateEnteredEventDetails\": {\"name\": \"Model Training\", \"input\": \"{\\\"ExecutedVersion\\\":\\\"$LATEST\\\",\\\"Payload\\\":\\\"{\\\\\\\"df_location\\\\\\\": \\\\\\\"s3://wildrydes-ml-mod1-databucket-686858492265/merged_dfs/08-11-2020-16:48:49_merged_df.csv\\\\\\\", \\\\\\\"data_bucket\\\\\\\": \\\\\\\"wildrydes-ml-mod1-databucket-686858492265\\\\\\\", \\\\\\\"training_location\\\\\\\": \\\\\\\"uploaded training data location: s3://wildrydes-ml-mod1-databucket-686858492265/train/recordio-pb-data\\\\\\\"}\\\",\\\"SdkHttpMetadata\\\":{\\\"AllHttpHeaders\\\":{\\\"X-Amz-Executed-Version\\\":[\\\"$LATEST\\\"],\\\"x-amzn-Remapped-Content-Length\\\":[\\\"0\\\"],\\\"Connection\\\":[\\\"keep-alive\\\"],\\\"x-amzn-RequestId\\\":[\\\"63df059c-0466-4a01-8346-1080d7262005\\\"],\\\"Content-Length\\\":[\\\"311\\\"],\\\"Date\\\":[\\\"Tue, 11 Aug 2020 16:48:53 GMT\\\"],\\\"X-Amzn-Trace-Id\\\":[\\\"root=1-5f32cbf2-9806fd07af3d0d7d73ed17bb;sampled=0\\\"],\\\"Content-Type\\\":[\\\"application/json\\\"]},\\\"HttpHeaders\\\":{\\\"Connection\\\":\\\"keep-alive\\\",\\\"Content-Length\\\":\\\"311\\\",\\\"Content-Type\\\":\\\"application/json\\\",\\\"Date\\\":\\\"Tue, 11 Aug 2020 16:48:53 GMT\\\",\\\"X-Amz-Executed-Version\\\":\\\"$LATEST\\\",\\\"x-amzn-Remapped-Content-Length\\\":\\\"0\\\",\\\"x-amzn-RequestId\\\":\\\"63df059c-0466-4a01-8346-1080d7262005\\\",\\\"X-Amzn-Trace-Id\\\":\\\"root=1-5f32cbf2-9806fd07af3d0d7d73ed17bb;sampled=0\\\"},\\\"HttpStatusCode\\\":200},\\\"SdkResponseMetadata\\\":{\\\"RequestId\\\":\\\"63df059c-0466-4a01-8346-1080d7262005\\\"},\\\"StatusCode\\\":200}\"}}, {\"timestamp\": 1597164533.665, \"type\": \"TaskScheduled\", \"id\": 13, \"previousEventId\": 12, \"taskScheduledEventDetails\": {\"resourceType\": \"sagemaker\", \"resource\": \"createTrainingJob.sync\", \"region\": \"us-east-1\", \"parameters\": \"{\\\"AlgorithmSpecification\\\":{\\\"TrainingImage\\\":\\\"382416733822.dkr.ecr.us-east-1.amazonaws.com/linear-learner:1\\\",\\\"TrainingInputMode\\\":\\\"File\\\"},\\\"OutputDataConfig\\\":{\\\"S3OutputPath\\\":\\\"s3://wildrydes-ml-mod1-databucket-686858492265\\\"},\\\"StoppingCondition\\\":{\\\"MaxRuntimeInSeconds\\\":86400},\\\"ResourceConfig\\\":{\\\"InstanceCount\\\":1,\\\"InstanceType\\\":\\\"ml.m5.2xlarge\\\",\\\"VolumeSizeInGB\\\":30},\\\"RoleArn\\\":\\\"arn:aws:iam::686858492265:role/service-role/wildrydes-ml-mod2-SageMakerExecutionRole-14V9WTQ2HROAZ\\\",\\\"InputDataConfig\\\":[{\\\"DataSource\\\":{\\\"S3DataSource\\\":{\\\"S3DataType\\\":\\\"S3Prefix\\\",\\\"S3Uri\\\":\\\"s3://wildrydes-ml-mod1-databucket-686858492265/train/recordio-pb-data\\\",\\\"S3DataDistributionType\\\":\\\"FullyReplicated\\\"}},\\\"ChannelName\\\":\\\"train\\\"},{\\\"DataSource\\\":{\\\"S3DataSource\\\":{\\\"S3DataType\\\":\\\"S3Prefix\\\",\\\"S3Uri\\\":\\\"s3://wildrydes-ml-mod1-databucket-686858492265/test/recordio-pb-data\\\",\\\"S3DataDistributionType\\\":\\\"FullyReplicated\\\"}},\\\"ChannelName\\\":\\\"test\\\"}],\\\"HyperParameters\\\":{\\\"feature_dim\\\":\\\"6\\\",\\\"mini_batch_size\\\":\\\"17995\\\",\\\"predictor_type\\\":\\\"binary_classifier\\\"},\\\"TrainingJobName\\\":\\\"linear-learner-e2dbfa81fb594e4ebb2be75824edeeaf\\\",\\\"Tags\\\":[{\\\"Key\\\":\\\"MANAGED_BY_AWS\\\",\\\"Value\\\":\\\"STARTED_BY_STEP_FUNCTIONS\\\"}]}\"}}, {\"timestamp\": 1597164533.711, \"type\": \"TaskStarted\", \"id\": 14, \"previousEventId\": 13, \"taskStartedEventDetails\": {\"resourceType\": \"sagemaker\", \"resource\": \"createTrainingJob.sync\"}}, {\"timestamp\": 1597164533.927, \"type\": \"TaskSubmitted\", \"id\": 15, \"previousEventId\": 14, \"taskSubmittedEventDetails\": {\"resourceType\": \"sagemaker\", \"resource\": \"createTrainingJob.sync\", \"output\": \"{\\\"SdkHttpMetadata\\\":{\\\"AllHttpHeaders\\\":{\\\"x-amzn-RequestId\\\":[\\\"7fe22c20-b074-457d-8fb7-2b7d64fcf89e\\\"],\\\"Content-Length\\\":[\\\"122\\\"],\\\"Date\\\":[\\\"Tue, 11 Aug 2020 16:48:53 GMT\\\"],\\\"Content-Type\\\":[\\\"application/x-amz-json-1.1\\\"]},\\\"HttpHeaders\\\":{\\\"Content-Length\\\":\\\"122\\\",\\\"Content-Type\\\":\\\"application/x-amz-json-1.1\\\",\\\"Date\\\":\\\"Tue, 11 Aug 2020 16:48:53 GMT\\\",\\\"x-amzn-RequestId\\\":\\\"7fe22c20-b074-457d-8fb7-2b7d64fcf89e\\\"},\\\"HttpStatusCode\\\":200},\\\"SdkResponseMetadata\\\":{\\\"RequestId\\\":\\\"7fe22c20-b074-457d-8fb7-2b7d64fcf89e\\\"},\\\"TrainingJobArn\\\":\\\"arn:aws:sagemaker:us-east-1:686858492265:training-job/linear-learner-e2dbfa81fb594e4ebb2be75824edeeaf\\\"}\"}}] };\n",
       "\n",
       "    var graph = new sfn.StateMachineExecutionGraph(definition, events, elementId, options);\n",
       "    graph.render();\n",
       "});\n",
       "\n",
       "</script>\n"
      ],
      "text/plain": [
       "<IPython.core.display.HTML object>"
      ]
     },
     "execution_count": 200,
     "metadata": {},
     "output_type": "execute_result"
    }
   ],
   "source": [
    "execution.render_progress()"
   ]
  },
  {
   "cell_type": "code",
   "execution_count": null,
   "metadata": {},
   "outputs": [],
   "source": []
  }
 ],
 "metadata": {
  "kernelspec": {
   "display_name": "conda_python3",
   "language": "python",
   "name": "conda_python3"
  },
  "language_info": {
   "codemirror_mode": {
    "name": "ipython",
    "version": 3
   },
   "file_extension": ".py",
   "mimetype": "text/x-python",
   "name": "python",
   "nbconvert_exporter": "python",
   "pygments_lexer": "ipython3",
   "version": "3.6.10"
  },
  "notice": "Copyright 2018 Amazon.com, Inc. or its affiliates. All Rights Reserved. Licensed under the Apache License, Version 2.0 (the \"License\"). You may not use this file except in compliance with the License. A copy of the License is located at http://aws.amazon.com/apache2.0/ or in the \"license\" file accompanying this file. This file is distributed on an \"AS IS\" BASIS, WITHOUT WARRANTIES OR CONDITIONS OF ANY KIND, either express or implied. See the License for the specific language governing permissions and limitations under the License."
 },
 "nbformat": 4,
 "nbformat_minor": 4
}
